{
  "nbformat": 4,
  "nbformat_minor": 0,
  "metadata": {
    "colab": {
      "provenance": [],
      "mount_file_id": "1vHlLyiVMWK8pNGLljC1rc_vb5CbE596z",
      "authorship_tag": "ABX9TyMB1nssk3lNqJDg+WSgquEg",
      "include_colab_link": true
    },
    "kernelspec": {
      "name": "python3",
      "display_name": "Python 3"
    },
    "language_info": {
      "name": "python"
    }
  },
  "cells": [
    {
      "cell_type": "markdown",
      "metadata": {
        "id": "view-in-github",
        "colab_type": "text"
      },
      "source": [
        "<a href=\"https://colab.research.google.com/github/Aromie/EnglishClass/blob/main/secret_santa_check.ipynb\" target=\"_parent\"><img src=\"https://colab.research.google.com/assets/colab-badge.svg\" alt=\"Open In Colab\"/></a>"
      ]
    },
    {
      "cell_type": "code",
      "source": [
        "from google.colab import files\n",
        "import os\n",
        "import csv"
      ],
      "metadata": {
        "id": "n97G--6BNwGV"
      },
      "execution_count": null,
      "outputs": []
    },
    {
      "cell_type": "code",
      "source": [
        "def check_file_exists(file_path):\n",
        "  return os.path.exists(file_path)\n",
        "\n",
        "def create_csv(file_path):\n",
        "  with open(file_path, 'w', newline='') as file:\n",
        "        writer = csv.writer(file)\n",
        "        writer.writerow([\"Participant\", \"Secret Santa\"])\n",
        "\n",
        "def add_participant(file_path, participant, secret_santa):\n",
        "    with open(file_path, 'a', newline='') as file:\n",
        "        writer = csv.writer(file)\n",
        "        writer.writerow([participant, secret_santa])\n",
        "\n",
        "def assign_secret_santas(participants):\n",
        "    santas = participants.copy()\n",
        "    for participant in participants:\n",
        "        # Make sure the participant doesn't get themselves as Secret Santa\n",
        "        santas.remove(participant)\n",
        "        secret_santa = santas.pop()\n",
        "        add_participant(\"secret_santa.csv\", participant, secret_santa)\n",
        "\n",
        "\n"
      ],
      "metadata": {
        "id": "ixL5FTg1Qe7s"
      },
      "execution_count": null,
      "outputs": []
    },
    {
      "cell_type": "code",
      "source": [
        "file_path = \"secret_santa.csv\"\n",
        "\n",
        "try:\n",
        "    if not check_file_exists(file_path):\n",
        "        create_csv(file_path)\n",
        "        print(\"Secret Santa file created.\")\n",
        "\n",
        "        # Ask if you want to add participants\n",
        "        add_participants = input(\"Do you want to add participants? (yes/no): \").lower()\n",
        "\n",
        "        if add_participants == \"yes\":\n",
        "            while True:\n",
        "                participant_name = input(\"Enter participant's name (type 'done' when finished): \")\n",
        "                if participant_name.lower() == 'done':\n",
        "                    break\n",
        "                else:\n",
        "                    add_participant(file_path, participant_name, \"\")\n",
        "    else:\n",
        "      old_name = input(\"Enter the participant's name you want to edit: \")\n",
        "      new_name = input(\"Enter the new name: \")\n",
        "      edit_participant(file_path, old_name, new_name)\n",
        "\n",
        "        # Assign Secret Santas\n",
        "      participants = [row[0] for row in csv.reader(open(file_path))]\n",
        "      assign_secret_santas(participants)\n",
        "\n",
        "        # Save to Google Drive\n",
        "      #save_to_google_drive(file_path)\n",
        "\n",
        "      #print(\"Secret Santas assigned and data saved to Google Drive.\")\n",
        "\n",
        "except Exception as e:\n",
        "    print(f\"An error occurred: {e}\")\n",
        "\n",
        "# Download the file in Google Colab\n",
        "files.download(file_path)"
      ],
      "metadata": {
        "id": "U6o6pn_5xBUJ"
      },
      "execution_count": null,
      "outputs": []
    },
    {
      "cell_type": "code",
      "source": [
        "google_path = \"Secret Santa/secret_santa.csv\"\n",
        "\n",
        "try:\n",
        "    if not check_file_exists(google_path):\n",
        "        create_csv(file_path)\n",
        "        print(\"Secret Santa file created.\")\n",
        "\n",
        "        # Ask if you want to add participants\n",
        "        add_participants = input(\"Do you want to add participants? (yes/no): \").lower()\n",
        "\n",
        "        if add_participants == \"yes\":\n",
        "            while True:\n",
        "                participant_name = input(\"Enter participant's name (type 'done' when finished): \")\n",
        "                if participant_name.lower() == 'done':\n",
        "                    break\n",
        "                else:\n",
        "                    add_participant(file_path, participant_name, \"\")\n",
        "    else:\n",
        "        # Edit participant's name\n",
        "        old_name = input(\"Enter the participant's name you want to edit: \")\n",
        "        new_name = input(\"Enter the new name: \")\n",
        "        edit_participant(file_path, old_name, new_name)\n",
        "\n",
        "        # Assign Secret Santas\n",
        "        participants = [row[0] for row in csv.reader(open(file_path))]\n",
        "        assign_secret_santas(participants)\n",
        "\n",
        "        # Save to Google Drive\n",
        "        save_to_google_drive(file_path)\n",
        "\n",
        "        print(\"Secret Santas assigned and data saved to Google Drive.\")\n",
        "\n",
        "except Exception as e:\n",
        "    print(f\"An error occurred: {e}\")\n",
        "\n",
        "# Download the file in Google Colab\n",
        "files.download(file_path)"
      ],
      "metadata": {
        "id": "uyrg4-nZN0bn"
      },
      "execution_count": null,
      "outputs": []
    },
    {
      "cell_type": "code",
      "execution_count": null,
      "metadata": {
        "id": "b45hXSY5M42o"
      },
      "outputs": [],
      "source": [
        "from google.colab import files\n",
        "import os\n",
        "import csv\n",
        "\n",
        "def check_file_exists(file_path):\n",
        "    return os.path.exists(file_path)\n",
        "\n",
        "def create_csv(file_path):\n",
        "    with open(file_path, 'w', newline='') as file:\n",
        "        writer = csv.writer(file)\n",
        "        writer.writerow([\"Participant\", \"Secret Santa\"])\n",
        "\n",
        "def add_participant(file_path, participant, secret_santa):\n",
        "    with open(file_path, 'a', newline='') as file:\n",
        "        writer = csv.writer(file)\n",
        "        writer.writerow([participant, secret_santa])\n",
        "\n",
        "def assign_secret_santas(participants):\n",
        "    santas = participants.copy()\n",
        "    for participant in participants:\n",
        "        # Make sure the participant doesn't get themselves as Secret Santa\n",
        "        santas.remove(participant)\n",
        "        secret_santa = santas.pop()\n",
        "        add_participant(\"secret_santa.csv\", participant, secret_santa)\n",
        "\n",
        "file_path = \"secret_santa.csv\"\n",
        "\n",
        "try:\n",
        "    if not check_file_exists(file_path):\n",
        "        create_csv(file_path)\n",
        "        print(\"Secret Santa file created.\")\n",
        "\n",
        "    # Ask if you want to add participants\n",
        "    add_participants = input(\"Do you want to add participants? (yes/no): \").lower()\n",
        "\n",
        "    if add_participants == \"yes\":\n",
        "        while True:\n",
        "            participant_name = input(\"Enter participant's name (type 'done' when finished): \")\n",
        "            if participant_name.lower() == 'done':\n",
        "                break\n",
        "            else:\n",
        "                add_participant(file_path, participant_name, \"\")\n",
        "    else:\n",
        "        old_name = input(\"Enter the participant's name you want to edit: \")\n",
        "        new_name = input(\"Enter the new name: \")\n",
        "        edit_participant(file_path, old_name, new_name)\n",
        "\n",
        "    # Assign Secret Santas\n",
        "    participants = [row[0] for row in csv.reader(open(file_path))]\n",
        "    assign_secret_santas(participants)\n",
        "\n",
        "except Exception as e:\n",
        "    print(f\"An error occurred: {e}\")\n",
        "\n",
        "# Download the file in Google Colab\n",
        "files.download(file_path)\n"
      ]
    },
    {
      "cell_type": "code",
      "source": [
        "import pandas as pd\n",
        "secret_santa=pd.read_csv(\"secret_santa.csv\")\n",
        "secret_santa"
      ],
      "metadata": {
        "id": "LQYeQdyDSSDB"
      },
      "execution_count": null,
      "outputs": []
    },
    {
      "cell_type": "code",
      "source": [
        "import os\n",
        "\n",
        "file_path = \"secret_santa.csv\"\n",
        "\n",
        "# Check if the file exists before deleting\n",
        "if os.path.exists(file_path):\n",
        "    os.remove(file_path)\n",
        "    print(f\"The file '{file_path}' has been deleted.\")\n",
        "else:\n",
        "    print(f\"The file '{file_path}' does not exist.\")\n",
        "\n",
        "# Now you can run your code again to create a new CSV file and input participants.\n"
      ],
      "metadata": {
        "colab": {
          "base_uri": "https://localhost:8080/"
        },
        "id": "aUAS6YbiU4wS",
        "outputId": "96f74d89-b180-4138-bb52-2df3d70b7c05"
      },
      "execution_count": 3,
      "outputs": [
        {
          "output_type": "stream",
          "name": "stdout",
          "text": [
            "The file 'secret_santa.csv' has been deleted.\n"
          ]
        }
      ]
    },
    {
      "cell_type": "code",
      "source": [
        "from google.colab import files\n",
        "import os\n",
        "import csv\n",
        "\n",
        "def check_file_exists(file_path):\n",
        "    return os.path.exists(file_path)\n",
        "\n",
        "def create_csv(file_path):\n",
        "    with open(file_path, 'w', newline='') as file:\n",
        "        writer = csv.writer(file)\n",
        "        writer.writerow([\"Participant\", \"Secret Santa\"])\n",
        "\n",
        "def add_participant(file_path, participant, secret_santa):\n",
        "    with open(file_path, 'a', newline='') as file:\n",
        "        writer = csv.writer(file)\n",
        "        writer.writerow([participant, secret_santa])\n",
        "\n",
        "def assign_secret_santas(participants):\n",
        "    santas = participants.copy()\n",
        "    for participant in participants:\n",
        "        # Make sure the participant doesn't get themselves as Secret Santa\n",
        "        santas.remove(participant)\n",
        "        secret_santa = santas.pop()\n",
        "        add_participant(\"secret_santa.csv\", participant, secret_santa)\n",
        "\n",
        "file_path = \"secret_santa.csv\"\n",
        "\n",
        "try:\n",
        "    if not check_file_exists(file_path):\n",
        "        create_csv(file_path)\n",
        "        print(\"Secret Santa file created.\")\n",
        "\n",
        "    # Ask if you want to add participants\n",
        "    add_participants = input(\"Do you want to add participants? (yes/no): \").lower()\n",
        "\n",
        "    while add_participants == \"yes\":\n",
        "        participant_name = input(\"Enter participant's name (type 'done' when finished): \")\n",
        "\n",
        "        if participant_name.lower() == 'done':\n",
        "            break\n",
        "\n",
        "        add_participant(file_path, participant_name, \"\")\n",
        "\n",
        "    if add_participants == \"a\":\n",
        "        participants = [row[0] for row in csv.reader(open(file_path))]\n",
        "        assign_secret_santas(participants)\n",
        "        print(\"Secret Santas assigned.\")\n",
        "\n",
        "except Exception as e:\n",
        "    print(f\"An error occurred: {e}\")\n",
        "\n",
        "# Download the file in Google Colab\n",
        "files.download(file_path)\n"
      ],
      "metadata": {
        "id": "bR8LmINZZOhe"
      },
      "execution_count": null,
      "outputs": []
    },
    {
      "cell_type": "code",
      "source": [
        "import random"
      ],
      "metadata": {
        "id": "v4XH4z6Ey-LN"
      },
      "execution_count": null,
      "outputs": []
    },
    {
      "cell_type": "code",
      "source": [
        "from google.colab import files"
      ],
      "metadata": {
        "id": "PHzG-rXY3YzT"
      },
      "execution_count": 6,
      "outputs": []
    },
    {
      "cell_type": "code",
      "source": [
        "participants=['Eunwan','Sungho','Jiyool','Dahi','Nahyn','Minji','Donghyun','Bona', 'Minoo','Jihoon','Eunoo']\n",
        "file_path='secret/participants.txt'\n",
        "with open(file_path, 'w', newline='') as file:\n",
        "  for participant in participants:\n",
        "    file.write(participant + \"\\n\")\n"
      ],
      "metadata": {
        "id": "aQD6dBZBE1FI"
      },
      "execution_count": 38,
      "outputs": []
    },
    {
      "cell_type": "code",
      "source": [
        "with open(file_path, 'r', newline='') as f:\n",
        "  lines=f.readlines()\n",
        "  for line in lines:\n",
        "    participants.append(line)"
      ],
      "metadata": {
        "id": "qybTFx6yHVvv"
      },
      "execution_count": 35,
      "outputs": []
    },
    {
      "cell_type": "code",
      "source": [
        "participants"
      ],
      "metadata": {
        "id": "cPeyeSuPIZnQ"
      },
      "execution_count": null,
      "outputs": []
    },
    {
      "cell_type": "code",
      "source": [
        "def assign(participants,participant):\n",
        "  i=0\n",
        "  while participants:\n",
        "    i\n",
        "    if participant==participants[i]:\n",
        "      del participants[i]\n",
        "      break\n",
        "    else:\n",
        "      i=i+1\n",
        "  num=len(participants)\n",
        "  picked=random.randint(0,num)\n",
        "  assigned=participants[picked]\n",
        "  file_path='secret/' + participant + '.' + 'txt'\n",
        "  with open(file_path, 'w', newline='') as file:\n",
        "    sentence = \"You picked \" + assigned + \".\" + '\\n'\n",
        "    sentences = sentence + \"Now, you're \" + assigned + \"'s Secret Santa!\"\n",
        "    file.write(sentences)\n",
        "  with open(file_path, 'r') as f:\n",
        "    for line in f:\n",
        "        print(line.strip())\n",
        "  return\n",
        "\n",
        "participant=input(\"What's your name? : \")\n",
        "assign(participants,participant)\n",
        "\n"
      ],
      "metadata": {
        "colab": {
          "base_uri": "https://localhost:8080/"
        },
        "id": "P0Mll6hmsKhe",
        "outputId": "e25c049a-5993-48a2-ba1d-32af4c830c6a"
      },
      "execution_count": 32,
      "outputs": [
        {
          "output_type": "stream",
          "name": "stdout",
          "text": [
            "What's your name? : Minji\n",
            "You picked Bona.\n",
            "Now, you're Bona's Secret Santa!\n"
          ]
        }
      ]
    },
    {
      "cell_type": "code",
      "source": [],
      "metadata": {
        "id": "UQTTUxn09ZVl"
      },
      "execution_count": null,
      "outputs": []
    }
  ]
}