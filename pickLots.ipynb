{
  "cells": [
    {
      "cell_type": "markdown",
      "metadata": {
        "id": "view-in-github",
        "colab_type": "text"
      },
      "source": [
        "<a href=\"https://colab.research.google.com/github/Aromie/EnglishClass/blob/main/pickLots.ipynb\" target=\"_parent\"><img src=\"https://colab.research.google.com/assets/colab-badge.svg\" alt=\"Open In Colab\"/></a>"
      ]
    },
    {
      "cell_type": "markdown",
      "metadata": {
        "id": "mywCQsSh0YrL"
      },
      "source": []
    },
    {
      "cell_type": "code",
      "execution_count": null,
      "metadata": {
        "id": "zOBISQTzCley"
      },
      "outputs": [],
      "source": [
        "import random\n",
        "\n",
        "class LotPot:\n",
        "\n",
        "  def __init__(self):\n",
        "    self.lot_counts = {1: 1, 2: 2, 3: 2, 4: 7, 5: 55}\n",
        "    total_lots = sum(self.lot_counts.values())\n",
        "    self.probabilities = [count / total_lots for count in self.lot_counts.values()]\n",
        "\n",
        "  def update_probabilities(self):\n",
        "    total_lots = sum(self.lot_counts.values())\n",
        "    self.probabilities = [count / total_lots for count in self.lot_counts.values()]\n",
        "\n",
        "  def display_lot_state(self):\n",
        "    total_lots = sum(self.lot_counts.values())\n",
        "    self.probabilities = [count / total_lots for count in self.lot_counts.values()]\n",
        "\n",
        "    print(\"Remaining lots:\")\n",
        "    for num, count in self.lot_counts.items():\n",
        "        probability = self.probabilities[num - 1]  # Adjust for 0-based indexing\n",
        "        print(f\"Number {num}: {count} lots, Probability: {probability:.2%}\")\n",
        "\n",
        "\n",
        "\n",
        "  def pick_lot(self):\n",
        "      if not any(self.lot_counts.values()):\n",
        "          print(\"Lot pot is empty.\")\n",
        "          return None\n",
        "\n",
        "      picked_number = random.choices(list(self.lot_counts.keys()), weights=self.probabilities, k=1)[0]\n",
        "      self.lot_counts[picked_number] -= 1\n",
        "      self.update_probabilities()\n",
        "      print(f\"Lot picked: {picked_number}\")\n",
        "      self.display_lot_state()\n",
        "      if picked_number == 1:\n",
        "        print(\"You got 5000-won Culture Gift Card\")\n",
        "      elif picked_number == 2:\n",
        "        print(\"You got a Choco Cluster\")\n",
        "      elif picked_number == 3:\n",
        "        print(\"You got a Whale Meal Sweet Cheese Flavor\")\n",
        "      elif picked_number == 4:\n",
        "        print(\"You got Chupa Chups Sour Bites\")\n",
        "      else:\n",
        "        print(\"You got a Castard\")\n",
        "      return picked_number\n",
        "\n",
        "# Example usage:\n",
        "lot_pot = LotPot()\n",
        "\n",
        "while True:\n",
        "    user_input = input(\"Type 'p' to pick a lot, 'q' to quit, or 's' to show remaining lots: \")\n",
        "\n",
        "    if user_input.lower() == 'p':\n",
        "        picked_lot = lot_pot.pick_lot()\n",
        "        if picked_lot is None:\n",
        "            break\n",
        "    elif user_input.lower() == 'q':\n",
        "        break\n",
        "    elif user_input.lower() == 's':\n",
        "        lot_pot.display_lot_state()\n",
        "    else:\n",
        "        print(\"Invalid input. Type 'p' to pick a lot, 'q' to quit, or 's' to show remaining lots.\")\n"
      ]
    },
    {
      "cell_type": "code",
      "source": [],
      "metadata": {
        "id": "Llv6HV-126Yc"
      },
      "execution_count": null,
      "outputs": []
    },
    {
      "cell_type": "code",
      "source": [],
      "metadata": {
        "id": "ZkIusoldnxV9"
      },
      "execution_count": null,
      "outputs": []
    }
  ],
  "metadata": {
    "colab": {
      "provenance": [],
      "authorship_tag": "ABX9TyPTo98BHo/yCdWSHJEXQAZB",
      "include_colab_link": true
    },
    "kernelspec": {
      "display_name": "Python 3",
      "name": "python3"
    },
    "language_info": {
      "name": "python"
    }
  },
  "nbformat": 4,
  "nbformat_minor": 0
}